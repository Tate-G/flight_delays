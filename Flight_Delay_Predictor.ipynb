{
 "cells": [
  {
   "cell_type": "markdown",
   "metadata": {},
   "source": [
    "# Flight Delay Predictor"
   ]
  },
  {
   "cell_type": "markdown",
   "metadata": {},
   "source": [
    "Predicts whether a US domestic airline flight will be delayed based on basic flight characteristics. User provides information on the flight schedule, the airline, and the airports. The program returns the probability of a delay, utilizing neural network models trained on years of flight data from the US Bureau of Transportation Statistics. A summary report of the modeling procedure and general findings is available at https://github.com/Tate-G/portfolio"
   ]
  },
  {
   "cell_type": "code",
   "execution_count": 1,
   "metadata": {},
   "outputs": [],
   "source": [
    "#Allow user to define flight characteristics\n",
    "flight={'Month':8,\n",
    "        'DayOfWeek':4,\n",
    "        'Reporting_Airline':'JetBlue Airways',\n",
    "        'Origin':'EWR',\n",
    "        'OriginState':'NJ',\n",
    "        'Dest':'BOS',\n",
    "        'DestState':'MA',\n",
    "        'CRSDepTime':2115,\n",
    "        'CRSArrTime':2237,\n",
    "        'CRSElapsedTime':82}\n"
   ]
  },
  {
   "cell_type": "markdown",
   "metadata": {},
   "source": [
    "Likely flight delay example:\n",
    "flight={'Month':8,\n",
    "        'DayOfWeek':4,\n",
    "        'Reporting_Airline':'JetBlue Airways',\n",
    "        'Origin':'EWR',\n",
    "        'OriginState':'NJ',\n",
    "        'Dest':'BOS',\n",
    "        'DestState':'MA',\n",
    "        'CRSDepTime':2115,\n",
    "        'CRSArrTime':2237,\n",
    "        'CRSElapsedTime':82}"
   ]
  },
  {
   "cell_type": "markdown",
   "metadata": {},
   "source": [
    "High-probability flight delay example:\n",
    "flight={'Month':8,\n",
    "        'DayOfWeek':4,\n",
    "        'Reporting_Airline':'JetBlue Airways',\n",
    "        'Origin':'BOS',\n",
    "        'OriginState':'MA',\n",
    "        'Dest':'EWR',\n",
    "        'DestState':'NJ',\n",
    "        'CRSDepTime':1846,\n",
    "        'CRSArrTime':2025,\n",
    "        'CRSElapsedTime':99}"
   ]
  },
  {
   "cell_type": "markdown",
   "metadata": {},
   "source": [
    "Elevated probability fight delay example:\n",
    "flight={'Month':8,\n",
    "        'DayOfWeek':5,\n",
    "        'Reporting_Airline':'United Air Lines Inc.',\n",
    "        'Origin':'BNA',\n",
    "        'OriginState':'TN',\n",
    "        'Dest':'SFO',\n",
    "        'DestState':'CA',\n",
    "        'CRSDepTime':1750,\n",
    "        'CRSArrTime':2032,\n",
    "        'CRSElapsedTime':282}"
   ]
  },
  {
   "cell_type": "markdown",
   "metadata": {},
   "source": [
    "Average delay probability example:\n",
    "flight={'Month':8,\n",
    "        'DayOfWeek':5,\n",
    "        'Reporting_Airline':'United Air Lines Inc.',\n",
    "        'Origin':'BNA',\n",
    "        'OriginState':'TN',\n",
    "        'Dest':'IAH',\n",
    "        'DestState':'TX',\n",
    "        'CRSDepTime':900,\n",
    "        'CRSArrTime':1110,\n",
    "        'CRSElapsedTime':130}"
   ]
  },
  {
   "cell_type": "code",
   "execution_count": 2,
   "metadata": {},
   "outputs": [],
   "source": [
    "import pandas as pd\n",
    "import numpy as np\n",
    "import tensorflow as tf\n",
    "physical_devices = tf.config.list_physical_devices('GPU') \n",
    "tf.config.experimental.set_memory_growth(physical_devices[0], True)"
   ]
  },
  {
   "cell_type": "markdown",
   "metadata": {},
   "source": [
    "## Import pre-trained model and parameters"
   ]
  },
  {
   "cell_type": "code",
   "execution_count": 3,
   "metadata": {},
   "outputs": [],
   "source": [
    "output_folder='7-22_May2019-Apr2021/'\n",
    "model_folder=output_folder\n",
    "\n",
    "model=tf.keras.models.load_model(model_folder+'saved_model')\n",
    "\n",
    "from joblib import load\n",
    "scaler=load(model_folder+'scaler.joblib')\n",
    "train_delay_prop=load(model_folder+'Train_delay_proportion.joblib')\n",
    "X_train_cols=load(model_folder+'X_train_cols.joblib')\n",
    "X_vars_normalize=load(output_folder+'X_vars_normalize.joblib')\n",
    "X_vars_log=load(output_folder+'X_vars_log.joblib')\n",
    "X_vars_categorical=load(output_folder+'X_vars_categorical.joblib')\n",
    "X_vars_hours=load(output_folder+'X_vars_hours.joblib')\n",
    "X_vars_cyclical_dict=load(output_folder+'X_vars_cyclical_dict.joblib')\n",
    "delay_minutes=load(output_folder+'delay_minutes.joblib')\n",
    "val_probs=load(output_folder+'val_probs.joblib')"
   ]
  },
  {
   "cell_type": "markdown",
   "metadata": {},
   "source": [
    "## Supporting functions"
   ]
  },
  {
   "cell_type": "code",
   "execution_count": 4,
   "metadata": {},
   "outputs": [],
   "source": [
    "#function to encode cyclical time data into sin and cos variables\n",
    "#usful resource at https://www.kaggle.com/avanwyk/encoding-cyclical-features-for-deep-learning\n",
    "def convert_cyclical(df,col_name_maxval_dict):\n",
    "    df_copy=df.copy()\n",
    "    for col in col_name_maxval_dict.keys():\n",
    "        max_value=col_name_maxval_dict[col]\n",
    "        df_copy['sin('+col+')']=np.sin(2*np.pi*df_copy[col]/max_value)\n",
    "        df_copy['cos('+col+')']=np.cos(2*np.pi*df_copy[col]/max_value)\n",
    "        df_copy.drop(col,axis=1,inplace=True)\n",
    "    return df_copy\n",
    "\n",
    "#function to convert times to decimal hours. \n",
    "#Input format is an integer with hour in thousands and hundreds place and minutes in tens and ones place \n",
    "#(For example, in input csv 1415 corresponds to 2:15pm, convert to decimal hour 14.25)\n",
    "def convert_hours(df,columns):\n",
    "    df_copy=df.copy()\n",
    "    for col in columns:\n",
    "        df_copy[col]=df[col]//100+(df[col]%100)/60\n",
    "    return df_copy\n",
    "\n",
    "\n",
    "#function to normalize continuous varaibles\n",
    "def normalize(X,X_vars_normalize,X_vars_log,scaler):    \n",
    "    X_to_scale=X.loc[:,X_vars_normalize]\n",
    "    X_to_log=X_to_scale.loc[:,X_vars_log]\n",
    "    X_out=X.copy()\n",
    "    \n",
    "    X_to_scale[X_vars_log]=np.log(X_to_log)\n",
    "    X_scaled=scaler.transform(X_to_scale)\n",
    "    X_out[X_vars_normalize]=X_scaled\n",
    "\n",
    "    return X_out\n",
    "\n",
    "\n",
    "#function to add categorical variables from train that are missing in predictor\n",
    "#(for example, all other airports and airlines not in the flight to be predicted)\n",
    "def missing_cat_add(X_pred,X_train_cols):\n",
    "    X_pred_new=X_pred.reindex(columns=X_train_cols,fill_value=0)\n",
    "    \n",
    "    return X_pred_new\n",
    "\n",
    "#function to print text output\n",
    "def output(prob,ave_prob,time,validation_probs):\n",
    "    if prob<np.quantile(validation_probs,0.25):\n",
    "        text1='Delay probability in bottom 25% of flights.'\n",
    "    elif (prob>=np.quantile(validation_probs,0.8))&(prob<np.quantile(validation_probs,0.9)):\n",
    "        text1='\\033[91m'+'Caution:'+'\\033[0m'+' Delay probability in top 20% of flights.'\n",
    "    elif (prob>=np.quantile(validation_probs,0.9))&(prob<0.5):\n",
    "        text1='\\033[91m'+'Caution:'+'\\033[0m'+' Delay probability in top 10% of flights.'\n",
    "    elif prob>=0.5:\n",
    "        text1='\\033[91m'+'Warning:'+'\\033[0m'+' Likely delayed arrival.'\n",
    "    else:\n",
    "        text1='Average chance of delayed arrival.'\n",
    "    \n",
    "    from fractions import Fraction\n",
    "    prob_frac=Fraction(str(prob)).limit_denominator(10)\n",
    "    ave_frac=Fraction(str(ave_prob)).limit_denominator(10)\n",
    "    text2='\\033[1m'+'{:.0f} in {:.0f}'.format(prob_frac.numerator,\n",
    "            prob_frac.denominator)+'\\033[0m'+' chance of arriving {:.0f} minutes late or more.'.format(time)\n",
    "    text3='On average {:.0f} in {:.0f} flights arrive {:.0f} minutes late or more.'.format(\n",
    "        ave_frac.numerator,ave_frac.denominator,time)\n",
    "    \n",
    "    print('******************************\\n')\n",
    "    print(text1)\n",
    "    print(text2)\n",
    "    print(text3)\n",
    "    print('\\n')\n",
    "    print('******************************\\n')\n",
    "    \n",
    "    \n",
    "    return"
   ]
  },
  {
   "cell_type": "markdown",
   "metadata": {},
   "source": [
    "## Processing and Predictions"
   ]
  },
  {
   "cell_type": "code",
   "execution_count": 5,
   "metadata": {},
   "outputs": [
    {
     "name": "stdout",
     "output_type": "stream",
     "text": [
      "******************************\n",
      "\n",
      "\u001b[91mWarning:\u001b[0m Likely delayed arrival.\n",
      "\u001b[1m5 in 9\u001b[0m chance of arriving 15 minutes late or more.\n",
      "On average 1 in 7 flights arrive 15 minutes late or more.\n",
      "\n",
      "\n",
      "******************************\n",
      "\n"
     ]
    }
   ],
   "source": [
    "X_pred=pd.DataFrame(data=flight, index=[0])\n",
    "X_1hot=pd.get_dummies(X_pred,columns=X_vars_categorical)\n",
    "X_hours=convert_hours(X_1hot,X_vars_hours)\n",
    "X_cyc=convert_cyclical(X_hours,X_vars_cyclical_dict)\n",
    "X_norm=normalize(X_cyc,X_vars_normalize,X_vars_log,scaler)\n",
    "X_padded=missing_cat_add(X_norm,X_train_cols)\n",
    "prob=model.predict_proba(X_padded)\n",
    "\n",
    "output(prob[0][0],train_delay_prop,delay_minutes,val_probs)"
   ]
  },
  {
   "cell_type": "code",
   "execution_count": null,
   "metadata": {},
   "outputs": [],
   "source": []
  },
  {
   "cell_type": "code",
   "execution_count": null,
   "metadata": {},
   "outputs": [],
   "source": []
  },
  {
   "cell_type": "code",
   "execution_count": null,
   "metadata": {},
   "outputs": [],
   "source": []
  },
  {
   "cell_type": "code",
   "execution_count": null,
   "metadata": {},
   "outputs": [],
   "source": []
  },
  {
   "cell_type": "markdown",
   "metadata": {},
   "source": [
    "## Cross-Validated Performance\n",
    "The plot below shows ROC AUC metrics for models tested from January 2019 to May 2021. Models were trained on moving 2-year windows of flight data ending 4 months before the test data. The baseline randomly guesses delays in proportion with delays in the test data. Models were noticeably better than the baseline for all but April 2020 at the height of pandemic disruptions."
   ]
  },
  {
   "cell_type": "code",
   "execution_count": 6,
   "metadata": {},
   "outputs": [
    {
     "data": {
      "image/png": "[encoded data removed]",
      "text/plain": [
       "<Figure size 432x432 with 1 Axes>"
      ]
     },
     "metadata": {
      "needs_background": "light"
     },
     "output_type": "display_data"
    }
   ],
   "source": [
    "metrics=pd.read_csv('7-22_Jan2019-May2021_cross_val/metrics.csv')\n",
    "dummy_metrics=pd.read_csv('7-22_Jan2019-May2021_cross_val/dummy_metrics.csv')\n",
    "\n",
    "import matplotlib.pyplot as plt\n",
    "\n",
    "f,ax=plt.subplots(1,figsize=(6,6))\n",
    "plt.plot(metrics['Test_data'],metrics['ROC_AUC'],'o-',label='Model')\n",
    "plt.plot(dummy_metrics['Test_data'],dummy_metrics['ROC_AUC'],'ro-',label='Baseline')\n",
    "plt.xticks(metrics['Test_data'][::3],rotation='vertical')\n",
    "ax.set_xlabel('Test Month')\n",
    "ax.set_ylabel('ROC AUC')\n",
    "ax.legend()\n",
    "plt.show()"
   ]
  },
  {
   "cell_type": "markdown",
   "metadata": {},
   "source": [
    "## Potential Delay Prevention\n",
    "Simple adjustments to flight times based on my delay probabilities could save the US overall about 2 billion dollars a year, with 1 billion dollars of those annual savings going to passengers. This is possible by adding just 15 minutes to the arrival time of only the top 10% most likely flight delays. In the cross-validation below over data from 2019-2021, this strategy would reduce the total number of flight delays by about 5-6%. Given that flight delays cost the US 33 billion dollars and US passengers alone 18 billion dollars in 2019, a 5-6% flight delay reduction has a clear chance to save billions of dollars."
   ]
  },
  {
   "cell_type": "code",
   "execution_count": 7,
   "metadata": {},
   "outputs": [
    {
     "data": {
      "image/png": "[encoded data removed]",
      "text/plain": [
       "<Figure size 432x432 with 1 Axes>"
      ]
     },
     "metadata": {
      "needs_background": "light"
     },
     "output_type": "display_data"
    }
   ],
   "source": [
    "f,ax=plt.subplots(1,figsize=(6,6))\n",
    "plt.plot(metrics['Test_data'],100*metrics['Delays_Prevented'],'o-')\n",
    "plt.xticks(metrics['Test_data'][::3],rotation='vertical')\n",
    "ax.set_xlabel('Test Month')\n",
    "ax.set_ylabel('Percent Delays Prevented')\n",
    "plt.show()"
   ]
  },
  {
   "cell_type": "code",
   "execution_count": null,
   "metadata": {},
   "outputs": [],
   "source": []
  }
 ],
 "metadata": {
  "kernelspec": {
   "display_name": "Python 3",
   "language": "python",
   "name": "python3"
  },
  "language_info": {
   "codemirror_mode": {
    "name": "ipython",
    "version": 3
   },
   "file_extension": ".py",
   "mimetype": "text/x-python",
   "name": "python",
   "nbconvert_exporter": "python",
   "pygments_lexer": "ipython3",
   "version": "3.7.9"
  }
 },
 "nbformat": 4,
 "nbformat_minor": 4
}
